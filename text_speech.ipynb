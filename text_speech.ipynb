{
  "nbformat": 4,
  "nbformat_minor": 0,
  "metadata": {
    "colab": {
      "provenance": [],
      "authorship_tag": "ABX9TyNuORl+ZfJSbrzqfa+0ATFb",
      "include_colab_link": true
    },
    "kernelspec": {
      "name": "python3",
      "display_name": "Python 3"
    },
    "language_info": {
      "name": "python"
    }
  },
  "cells": [
    {
      "cell_type": "markdown",
      "metadata": {
        "id": "view-in-github",
        "colab_type": "text"
      },
      "source": [
        "<a href=\"https://colab.research.google.com/github/mahakjain27/text-to-speech/blob/main/text_speech.ipynb\" target=\"_parent\"><img src=\"https://colab.research.google.com/assets/colab-badge.svg\" alt=\"Open In Colab\"/></a>"
      ]
    },
    {
      "cell_type": "code",
      "execution_count": 11,
      "metadata": {
        "colab": {
          "base_uri": "https://localhost:8080/"
        },
        "id": "EyvdANviPruB",
        "outputId": "125eecb7-6566-4821-a2ff-1382495d6865"
      },
      "outputs": [
        {
          "output_type": "stream",
          "name": "stdout",
          "text": [
            "Requirement already satisfied: gTTS in /usr/local/lib/python3.11/dist-packages (2.5.4)\n",
            "Requirement already satisfied: requests<3,>=2.27 in /usr/local/lib/python3.11/dist-packages (from gTTS) (2.32.3)\n",
            "Requirement already satisfied: click<8.2,>=7.1 in /usr/local/lib/python3.11/dist-packages (from gTTS) (8.1.8)\n",
            "Requirement already satisfied: charset-normalizer<4,>=2 in /usr/local/lib/python3.11/dist-packages (from requests<3,>=2.27->gTTS) (3.4.1)\n",
            "Requirement already satisfied: idna<4,>=2.5 in /usr/local/lib/python3.11/dist-packages (from requests<3,>=2.27->gTTS) (3.10)\n",
            "Requirement already satisfied: urllib3<3,>=1.21.1 in /usr/local/lib/python3.11/dist-packages (from requests<3,>=2.27->gTTS) (2.3.0)\n",
            "Requirement already satisfied: certifi>=2017.4.17 in /usr/local/lib/python3.11/dist-packages (from requests<3,>=2.27->gTTS) (2025.1.31)\n"
          ]
        }
      ],
      "source": [
        "pip install gTTS\n"
      ]
    },
    {
      "cell_type": "code",
      "source": [
        "from gtts import gTTS\n",
        "import os\n",
        "\n",
        "def text_to_speech(text, language='en', output_file='output.mp3'):\n",
        "    try:\n",
        "        tts = gTTS(text=text, lang=language, slow=False)  # Corrected gTTS and 'False' for slow\n",
        "        tts.save(output_file)\n",
        "        print(f\"Speech saved to {output_file}\")\n",
        "        os.system(f\"start {output_file}\" if os.name == \"nt\" else f\"mpg321 {output_file}\")\n",
        "    except Exception as e:  # Corrected 'Exception' here\n",
        "        print(\"Error:\", str(e))\n",
        "\n",
        "# Example text to test\n",
        "text = \"Hello, Nirmal! Welcome to the world of text-to-speech conversion.\"\n",
        "text_to_speech(text)\n",
        "\n"
      ],
      "metadata": {
        "colab": {
          "base_uri": "https://localhost:8080/"
        },
        "id": "US392LVNSdLx",
        "outputId": "35badfcd-fe45-450e-bb76-10901b8b352c"
      },
      "execution_count": 13,
      "outputs": [
        {
          "output_type": "stream",
          "name": "stdout",
          "text": [
            "Speech saved to output.mp3\n"
          ]
        }
      ]
    }
  ]
}